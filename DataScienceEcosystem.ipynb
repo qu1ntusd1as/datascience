{
 "cells": [
  {
   "cell_type": "markdown",
   "metadata": {},
   "source": [
    "# Data Science in Jupyter Notebooks"
   ]
  },
  {
   "cell_type": "markdown",
   "metadata": {
    "tags": []
   },
   "source": [
    "# Exercise 1: Create a Jupyter Notebook\n",
    "This is Jupyter notebook called DataScienceEcosystem.ipynb"
   ]
  },
  {
   "cell_type": "markdown",
   "metadata": {},
   "source": [
    "# Exercise 2 - Create a markdown cell with the title of the notebook. (1 pt)\n",
    "# Data Science in Jupyter Notebooks"
   ]
  },
  {
   "cell_type": "markdown",
   "metadata": {},
   "source": [
    "# Exercise 3 - Create a markdown cell for an introduction. (1 pt)\n",
    "## Introduction\n",
    "This notebook covers various aspects of data science including languages, libraries, tools, and basic arithmetic operations. It aims to provide a foundational understanding of the components used in data science."
   ]
  },
  {
   "cell_type": "markdown",
   "metadata": {},
   "source": [
    "# Exercise 4 - Create a markdown cell to list data science languages. (3 pts)\n",
    "## Data Science Languages\n",
    "Some of the popular languages that data scientists use are:\n",
    "- Python\n",
    "- R\n",
    "- SQL\n",
    "- Julia\n",
    "- Scala"
   ]
  },
  {
   "cell_type": "markdown",
   "metadata": {},
   "source": [
    "# Exercise 5 - Create a markdown cell to list data science libraries. (3 pts)\n",
    "## Data Science Libraries\n",
    "Some of the commonly used libraries in data science are:\n",
    "- Pandas\n",
    "- NumPy\n",
    "- Matplotlib\n",
    "- SciPy\n",
    "- Scikit-learn\n",
    "- TensorFlow\n",
    "- Keras\n",
    "- PyTorch"
   ]
  },
  {
   "cell_type": "markdown",
   "metadata": {},
   "source": [
    "# Exercise 6 - Create a markdown cell with a table of Data Science tools. (3 pts)\n",
    "## Data Science Tools\n",
    "| Tool          | Description                                       |\n",
    "|---------------|---------------------------------------------------|\n",
    "| Jupyter       | Interactive computing environment                 |\n",
    "| RStudio       | Integrated development environment for R          |\n",
    "| Apache Hadoop | Framework for distributed storage and processing  |\n",
    "| Apache Spark  | Unified analytics engine for big data processing  |\n",
    "| Tableau       | Data visualization and business intelligence tool |"
   ]
  },
  {
   "cell_type": "markdown",
   "metadata": {},
   "source": [
    "# Exercise 7 - Create a markdown cell introducing arithmetic expression examples. (1 pt)\n",
    "## Arithmetic Expression Examples\n",
    "In this section, we will demonstrate basic arithmetic operations like addition, subtraction, multiplication, and division."
   ]
  },
  {
   "cell_type": "code",
   "execution_count": 11,
   "metadata": {
    "tags": []
   },
   "outputs": [
    {
     "name": "stdout",
     "output_type": "stream",
     "text": [
      "Addition: 9\n",
      "Subtraction: 1\n",
      "Multiplication: 20\n",
      "Division: 1.25\n"
     ]
    }
   ],
   "source": [
    "# This code multiplies and adds two numbers\n",
    "a = 5\n",
    "b = 4\n",
    "add = a + b\n",
    "sub = a - b\n",
    "multiply = a * b\n",
    "division = a / b\n",
    "print(\"Addition: \" + str(add))\n",
    "print(\"Subtraction: \" + str(sub))\n",
    "print(\"Multiplication: \" + str(multiply))\n",
    "print(\"Division: \" + str(division))\n"
   ]
  },
  {
   "cell_type": "markdown",
   "metadata": {},
   "source": [
    "# Exercise 8 - Create a code cell to multiply and add numbers. (2 pts)"
   ]
  },
  {
   "cell_type": "code",
   "execution_count": 8,
   "metadata": {
    "tags": []
   },
   "outputs": [
    {
     "name": "stdout",
     "output_type": "stream",
     "text": [
      "Multiplication: 20\n",
      "Addition: 9\n"
     ]
    }
   ],
   "source": [
    "# This code multiplies and adds two numbers\n",
    "a = 5\n",
    "b = 4\n",
    "multiply = a * b\n",
    "add = a + b\n",
    "print(\"Multiplication: \" + str(multiply))\n",
    "print(\"Addition: \" + str(add))"
   ]
  },
  {
   "cell_type": "markdown",
   "metadata": {
    "tags": []
   },
   "source": [
    "# Exercise 9 - Create a code cell to convert minutes to hours. (2 pts)"
   ]
  },
  {
   "cell_type": "code",
   "execution_count": 10,
   "metadata": {
    "tags": []
   },
   "outputs": [
    {
     "name": "stdout",
     "output_type": "stream",
     "text": [
      "150 minutes converted in hours: 2.5\n"
     ]
    }
   ],
   "source": [
    "# This code converts minutes to hours\n",
    "minutes = 150\n",
    "hours = minutes / 60\n",
    "print(\"150 minutes converted in hours: \" + str(hours))"
   ]
  },
  {
   "cell_type": "markdown",
   "metadata": {},
   "source": [
    "# Exercise 10 - Insert a markdown cell to list Objectives. (3 pts)\n",
    "## Objectives\n",
    "- Understand the fundamental languages used in data science\n",
    "- Learn about key data science libraries and tools\n",
    "- Perform basic arithmetic operations in Python\n",
    "- Convert units within Python"
   ]
  },
  {
   "cell_type": "markdown",
   "metadata": {},
   "source": [
    "# Exercise 11 - Create a markdown cell to indicate the Author’s name. (2 pts)\n",
    "## Author\n",
    "\"Real name of author\""
   ]
  },
  {
   "cell_type": "code",
   "execution_count": null,
   "metadata": {},
   "outputs": [],
   "source": []
  }
 ],
 "metadata": {
  "kernelspec": {
   "display_name": "Python",
   "language": "python",
   "name": "conda-env-python-py"
  },
  "language_info": {
   "codemirror_mode": {
    "name": "ipython",
    "version": 3
   },
   "file_extension": ".py",
   "mimetype": "text/x-python",
   "name": "python",
   "nbconvert_exporter": "python",
   "pygments_lexer": "ipython3",
   "version": "3.7.12"
  }
 },
 "nbformat": 4,
 "nbformat_minor": 4
}
